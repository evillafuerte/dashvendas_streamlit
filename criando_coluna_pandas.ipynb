{
 "cells": [
  {
   "cell_type": "markdown",
   "id": "fa803071",
   "metadata": {},
   "source": [
    "## Criando novas colunas"
   ]
  },
  {
   "cell_type": "code",
   "execution_count": 31,
   "id": "26500285",
   "metadata": {},
   "outputs": [],
   "source": [
    "# Importando bibliotecas\n",
    "import pandas as pd\n",
    "import numpy as np"
   ]
  },
  {
   "cell_type": "code",
   "execution_count": 32,
   "id": "d112f760",
   "metadata": {},
   "outputs": [],
   "source": [
    "# Lendo a base de dados\n",
    "df = pd.read_excel(\"Fortaleza.xlsx\")"
   ]
  },
  {
   "cell_type": "code",
   "execution_count": 3,
   "id": "fc12f6c6",
   "metadata": {},
   "outputs": [
    {
     "data": {
      "text/html": [
       "<div>\n",
       "<style scoped>\n",
       "    .dataframe tbody tr th:only-of-type {\n",
       "        vertical-align: middle;\n",
       "    }\n",
       "\n",
       "    .dataframe tbody tr th {\n",
       "        vertical-align: top;\n",
       "    }\n",
       "\n",
       "    .dataframe thead th {\n",
       "        text-align: right;\n",
       "    }\n",
       "</style>\n",
       "<table border=\"1\" class=\"dataframe\">\n",
       "  <thead>\n",
       "    <tr style=\"text-align: right;\">\n",
       "      <th></th>\n",
       "      <th>Cidade</th>\n",
       "      <th>Data</th>\n",
       "      <th>ValorProduto</th>\n",
       "      <th>LojaID</th>\n",
       "      <th>Qtde</th>\n",
       "    </tr>\n",
       "  </thead>\n",
       "  <tbody>\n",
       "    <tr>\n",
       "      <th>0</th>\n",
       "      <td>Fortaleza</td>\n",
       "      <td>2018-01-01</td>\n",
       "      <td>142.00</td>\n",
       "      <td>1520</td>\n",
       "      <td>1</td>\n",
       "    </tr>\n",
       "    <tr>\n",
       "      <th>1</th>\n",
       "      <td>Fortaleza</td>\n",
       "      <td>2018-01-01</td>\n",
       "      <td>14.21</td>\n",
       "      <td>1522</td>\n",
       "      <td>6</td>\n",
       "    </tr>\n",
       "    <tr>\n",
       "      <th>2</th>\n",
       "      <td>Fortaleza</td>\n",
       "      <td>2018-01-01</td>\n",
       "      <td>71.55</td>\n",
       "      <td>1520</td>\n",
       "      <td>1</td>\n",
       "    </tr>\n",
       "    <tr>\n",
       "      <th>3</th>\n",
       "      <td>Fortaleza</td>\n",
       "      <td>2018-01-01</td>\n",
       "      <td>3.01</td>\n",
       "      <td>1521</td>\n",
       "      <td>7</td>\n",
       "    </tr>\n",
       "    <tr>\n",
       "      <th>4</th>\n",
       "      <td>Fortaleza</td>\n",
       "      <td>2018-01-01</td>\n",
       "      <td>24.51</td>\n",
       "      <td>1522</td>\n",
       "      <td>8</td>\n",
       "    </tr>\n",
       "  </tbody>\n",
       "</table>\n",
       "</div>"
      ],
      "text/plain": [
       "      Cidade       Data  ValorProduto  LojaID  Qtde\n",
       "0  Fortaleza 2018-01-01        142.00    1520     1\n",
       "1  Fortaleza 2018-01-01         14.21    1522     6\n",
       "2  Fortaleza 2018-01-01         71.55    1520     1\n",
       "3  Fortaleza 2018-01-01          3.01    1521     7\n",
       "4  Fortaleza 2018-01-01         24.51    1522     8"
      ]
     },
     "execution_count": 3,
     "metadata": {},
     "output_type": "execute_result"
    }
   ],
   "source": [
    "# Visualizando as 5 primeiras linhas\n",
    "df.head()"
   ]
  },
  {
   "cell_type": "markdown",
   "id": "afad685c",
   "metadata": {},
   "source": [
    "### Criando a coluna de receita"
   ]
  },
  {
   "cell_type": "code",
   "execution_count": 33,
   "id": "0884782b",
   "metadata": {},
   "outputs": [],
   "source": [
    "df[\"Receita\"] = df[\"ValorProduto\"] * df[\"Qtde\"]"
   ]
  },
  {
   "cell_type": "code",
   "execution_count": 5,
   "id": "58ab4ec2",
   "metadata": {},
   "outputs": [
    {
     "data": {
      "text/html": [
       "<div>\n",
       "<style scoped>\n",
       "    .dataframe tbody tr th:only-of-type {\n",
       "        vertical-align: middle;\n",
       "    }\n",
       "\n",
       "    .dataframe tbody tr th {\n",
       "        vertical-align: top;\n",
       "    }\n",
       "\n",
       "    .dataframe thead th {\n",
       "        text-align: right;\n",
       "    }\n",
       "</style>\n",
       "<table border=\"1\" class=\"dataframe\">\n",
       "  <thead>\n",
       "    <tr style=\"text-align: right;\">\n",
       "      <th></th>\n",
       "      <th>Cidade</th>\n",
       "      <th>Data</th>\n",
       "      <th>ValorProduto</th>\n",
       "      <th>LojaID</th>\n",
       "      <th>Qtde</th>\n",
       "      <th>Receita</th>\n",
       "    </tr>\n",
       "  </thead>\n",
       "  <tbody>\n",
       "    <tr>\n",
       "      <th>0</th>\n",
       "      <td>Fortaleza</td>\n",
       "      <td>2018-01-01</td>\n",
       "      <td>142.00</td>\n",
       "      <td>1520</td>\n",
       "      <td>1</td>\n",
       "      <td>142.00</td>\n",
       "    </tr>\n",
       "    <tr>\n",
       "      <th>1</th>\n",
       "      <td>Fortaleza</td>\n",
       "      <td>2018-01-01</td>\n",
       "      <td>14.21</td>\n",
       "      <td>1522</td>\n",
       "      <td>6</td>\n",
       "      <td>85.26</td>\n",
       "    </tr>\n",
       "    <tr>\n",
       "      <th>2</th>\n",
       "      <td>Fortaleza</td>\n",
       "      <td>2018-01-01</td>\n",
       "      <td>71.55</td>\n",
       "      <td>1520</td>\n",
       "      <td>1</td>\n",
       "      <td>71.55</td>\n",
       "    </tr>\n",
       "    <tr>\n",
       "      <th>3</th>\n",
       "      <td>Fortaleza</td>\n",
       "      <td>2018-01-01</td>\n",
       "      <td>3.01</td>\n",
       "      <td>1521</td>\n",
       "      <td>7</td>\n",
       "      <td>21.07</td>\n",
       "    </tr>\n",
       "    <tr>\n",
       "      <th>4</th>\n",
       "      <td>Fortaleza</td>\n",
       "      <td>2018-01-01</td>\n",
       "      <td>24.51</td>\n",
       "      <td>1522</td>\n",
       "      <td>8</td>\n",
       "      <td>196.08</td>\n",
       "    </tr>\n",
       "  </tbody>\n",
       "</table>\n",
       "</div>"
      ],
      "text/plain": [
       "      Cidade       Data  ValorProduto  LojaID  Qtde  Receita\n",
       "0  Fortaleza 2018-01-01        142.00    1520     1   142.00\n",
       "1  Fortaleza 2018-01-01         14.21    1522     6    85.26\n",
       "2  Fortaleza 2018-01-01         71.55    1520     1    71.55\n",
       "3  Fortaleza 2018-01-01          3.01    1521     7    21.07\n",
       "4  Fortaleza 2018-01-01         24.51    1522     8   196.08"
      ]
     },
     "execution_count": 5,
     "metadata": {},
     "output_type": "execute_result"
    }
   ],
   "source": [
    "df.head()"
   ]
  },
  {
   "cell_type": "markdown",
   "id": "9ad05c6c",
   "metadata": {},
   "source": [
    "### Criando uma coluna com base em uma condição"
   ]
  },
  {
   "cell_type": "markdown",
   "id": "5835b1ca",
   "metadata": {},
   "source": [
    "### numpy.where(condição, valor_se_verdadeiro, valor_se_falso)\n"
   ]
  },
  {
   "cell_type": "code",
   "execution_count": 6,
   "id": "767633dc",
   "metadata": {},
   "outputs": [],
   "source": [
    "df[\"ClassificaçãoVenda\"] = np.where(df[\"Receita\"] > 1000, \"Alta\", \"Baixa\")"
   ]
  },
  {
   "cell_type": "code",
   "execution_count": 6,
   "id": "86b6f04e",
   "metadata": {},
   "outputs": [
    {
     "data": {
      "text/html": [
       "<div>\n",
       "<style scoped>\n",
       "    .dataframe tbody tr th:only-of-type {\n",
       "        vertical-align: middle;\n",
       "    }\n",
       "\n",
       "    .dataframe tbody tr th {\n",
       "        vertical-align: top;\n",
       "    }\n",
       "\n",
       "    .dataframe thead th {\n",
       "        text-align: right;\n",
       "    }\n",
       "</style>\n",
       "<table border=\"1\" class=\"dataframe\">\n",
       "  <thead>\n",
       "    <tr style=\"text-align: right;\">\n",
       "      <th></th>\n",
       "      <th>Cidade</th>\n",
       "      <th>Data</th>\n",
       "      <th>ValorProduto</th>\n",
       "      <th>LojaID</th>\n",
       "      <th>Qtde</th>\n",
       "      <th>Receita</th>\n",
       "    </tr>\n",
       "  </thead>\n",
       "  <tbody>\n",
       "    <tr>\n",
       "      <th>22</th>\n",
       "      <td>Fortaleza</td>\n",
       "      <td>2018-01-02</td>\n",
       "      <td>150.94</td>\n",
       "      <td>1522</td>\n",
       "      <td>1</td>\n",
       "      <td>150.94</td>\n",
       "    </tr>\n",
       "    <tr>\n",
       "      <th>79</th>\n",
       "      <td>Fortaleza</td>\n",
       "      <td>2018-01-01</td>\n",
       "      <td>5.59</td>\n",
       "      <td>1521</td>\n",
       "      <td>4</td>\n",
       "      <td>22.36</td>\n",
       "    </tr>\n",
       "    <tr>\n",
       "      <th>67</th>\n",
       "      <td>Fortaleza</td>\n",
       "      <td>2018-01-01</td>\n",
       "      <td>78.13</td>\n",
       "      <td>1521</td>\n",
       "      <td>4</td>\n",
       "      <td>312.52</td>\n",
       "    </tr>\n",
       "    <tr>\n",
       "      <th>89</th>\n",
       "      <td>Fortaleza</td>\n",
       "      <td>2018-01-01</td>\n",
       "      <td>10.15</td>\n",
       "      <td>1523</td>\n",
       "      <td>7</td>\n",
       "      <td>71.05</td>\n",
       "    </tr>\n",
       "    <tr>\n",
       "      <th>80</th>\n",
       "      <td>Fortaleza</td>\n",
       "      <td>2018-01-01</td>\n",
       "      <td>121.77</td>\n",
       "      <td>1523</td>\n",
       "      <td>3</td>\n",
       "      <td>365.31</td>\n",
       "    </tr>\n",
       "    <tr>\n",
       "      <th>98</th>\n",
       "      <td>Fortaleza</td>\n",
       "      <td>2018-01-01</td>\n",
       "      <td>138.33</td>\n",
       "      <td>1521</td>\n",
       "      <td>10</td>\n",
       "      <td>1383.30</td>\n",
       "    </tr>\n",
       "    <tr>\n",
       "      <th>24</th>\n",
       "      <td>Fortaleza</td>\n",
       "      <td>2018-01-02</td>\n",
       "      <td>151.04</td>\n",
       "      <td>1522</td>\n",
       "      <td>6</td>\n",
       "      <td>906.24</td>\n",
       "    </tr>\n",
       "    <tr>\n",
       "      <th>103</th>\n",
       "      <td>Fortaleza</td>\n",
       "      <td>2018-01-01</td>\n",
       "      <td>12.62</td>\n",
       "      <td>1522</td>\n",
       "      <td>3</td>\n",
       "      <td>37.86</td>\n",
       "    </tr>\n",
       "    <tr>\n",
       "      <th>16</th>\n",
       "      <td>Fortaleza</td>\n",
       "      <td>2018-01-02</td>\n",
       "      <td>37.68</td>\n",
       "      <td>1522</td>\n",
       "      <td>10</td>\n",
       "      <td>376.80</td>\n",
       "    </tr>\n",
       "    <tr>\n",
       "      <th>68</th>\n",
       "      <td>Fortaleza</td>\n",
       "      <td>2018-01-01</td>\n",
       "      <td>179.74</td>\n",
       "      <td>1520</td>\n",
       "      <td>2</td>\n",
       "      <td>359.48</td>\n",
       "    </tr>\n",
       "  </tbody>\n",
       "</table>\n",
       "</div>"
      ],
      "text/plain": [
       "        Cidade       Data  ValorProduto  LojaID  Qtde  Receita\n",
       "22   Fortaleza 2018-01-02        150.94    1522     1   150.94\n",
       "79   Fortaleza 2018-01-01          5.59    1521     4    22.36\n",
       "67   Fortaleza 2018-01-01         78.13    1521     4   312.52\n",
       "89   Fortaleza 2018-01-01         10.15    1523     7    71.05\n",
       "80   Fortaleza 2018-01-01        121.77    1523     3   365.31\n",
       "98   Fortaleza 2018-01-01        138.33    1521    10  1383.30\n",
       "24   Fortaleza 2018-01-02        151.04    1522     6   906.24\n",
       "103  Fortaleza 2018-01-01         12.62    1522     3    37.86\n",
       "16   Fortaleza 2018-01-02         37.68    1522    10   376.80\n",
       "68   Fortaleza 2018-01-01        179.74    1520     2   359.48"
      ]
     },
     "execution_count": 6,
     "metadata": {},
     "output_type": "execute_result"
    }
   ],
   "source": [
    "df.sample(10)"
   ]
  },
  {
   "cell_type": "code",
   "execution_count": 34,
   "id": "2f83ee96",
   "metadata": {},
   "outputs": [],
   "source": [
    "def classificavenda(valor):\n",
    "    if valor < 1000:\n",
    "        return \"Baixa\"\n",
    "    else:\n",
    "        return \"Alta\""
   ]
  },
  {
   "cell_type": "code",
   "execution_count": 35,
   "id": "155ac11d",
   "metadata": {},
   "outputs": [],
   "source": [
    "df[\"ClassificaVenda1\"] = df[\"Receita\"].apply(classificavenda)"
   ]
  },
  {
   "cell_type": "code",
   "execution_count": 36,
   "id": "76c105cf",
   "metadata": {},
   "outputs": [
    {
     "data": {
      "text/html": [
       "<div>\n",
       "<style scoped>\n",
       "    .dataframe tbody tr th:only-of-type {\n",
       "        vertical-align: middle;\n",
       "    }\n",
       "\n",
       "    .dataframe tbody tr th {\n",
       "        vertical-align: top;\n",
       "    }\n",
       "\n",
       "    .dataframe thead th {\n",
       "        text-align: right;\n",
       "    }\n",
       "</style>\n",
       "<table border=\"1\" class=\"dataframe\">\n",
       "  <thead>\n",
       "    <tr style=\"text-align: right;\">\n",
       "      <th></th>\n",
       "      <th>Cidade</th>\n",
       "      <th>Data</th>\n",
       "      <th>ValorProduto</th>\n",
       "      <th>LojaID</th>\n",
       "      <th>Qtde</th>\n",
       "      <th>Receita</th>\n",
       "      <th>ClassificaVenda1</th>\n",
       "    </tr>\n",
       "  </thead>\n",
       "  <tbody>\n",
       "    <tr>\n",
       "      <th>67</th>\n",
       "      <td>Fortaleza</td>\n",
       "      <td>2018-01-01</td>\n",
       "      <td>78.13</td>\n",
       "      <td>1521</td>\n",
       "      <td>4</td>\n",
       "      <td>312.52</td>\n",
       "      <td>Baixa</td>\n",
       "    </tr>\n",
       "    <tr>\n",
       "      <th>83</th>\n",
       "      <td>Fortaleza</td>\n",
       "      <td>2018-01-01</td>\n",
       "      <td>14.44</td>\n",
       "      <td>1520</td>\n",
       "      <td>5</td>\n",
       "      <td>72.20</td>\n",
       "      <td>Baixa</td>\n",
       "    </tr>\n",
       "    <tr>\n",
       "      <th>25</th>\n",
       "      <td>Fortaleza</td>\n",
       "      <td>2018-01-02</td>\n",
       "      <td>34.66</td>\n",
       "      <td>1521</td>\n",
       "      <td>8</td>\n",
       "      <td>277.28</td>\n",
       "      <td>Baixa</td>\n",
       "    </tr>\n",
       "    <tr>\n",
       "      <th>139</th>\n",
       "      <td>Fortaleza</td>\n",
       "      <td>2019-01-04</td>\n",
       "      <td>142.00</td>\n",
       "      <td>1522</td>\n",
       "      <td>3</td>\n",
       "      <td>426.00</td>\n",
       "      <td>Baixa</td>\n",
       "    </tr>\n",
       "  </tbody>\n",
       "</table>\n",
       "</div>"
      ],
      "text/plain": [
       "        Cidade       Data  ValorProduto  LojaID  Qtde  Receita  \\\n",
       "67   Fortaleza 2018-01-01         78.13    1521     4   312.52   \n",
       "83   Fortaleza 2018-01-01         14.44    1520     5    72.20   \n",
       "25   Fortaleza 2018-01-02         34.66    1521     8   277.28   \n",
       "139  Fortaleza 2019-01-04        142.00    1522     3   426.00   \n",
       "\n",
       "    ClassificaVenda1  \n",
       "67             Baixa  \n",
       "83             Baixa  \n",
       "25             Baixa  \n",
       "139            Baixa  "
      ]
     },
     "execution_count": 36,
     "metadata": {},
     "output_type": "execute_result"
    }
   ],
   "source": [
    "df.sample(4)"
   ]
  },
  {
   "cell_type": "markdown",
   "id": "54fcf985",
   "metadata": {},
   "source": [
    "### uma função lambda é uma função sem nome que pode ser definida em uma única linha de código. Essas funções são úteis em situações em que precisamos definir uma função temporária ou simples que não precisa ser definida formalmente."
   ]
  },
  {
   "cell_type": "code",
   "execution_count": 37,
   "id": "d6d1e76d",
   "metadata": {},
   "outputs": [],
   "source": [
    "df['ClassificacaoVenda2'] = df['Receita'].apply(lambda x: 'Baixa' if x < 1000 else 'Alta')"
   ]
  },
  {
   "cell_type": "code",
   "execution_count": 38,
   "id": "e35ab737",
   "metadata": {
    "scrolled": true
   },
   "outputs": [
    {
     "data": {
      "text/html": [
       "<div>\n",
       "<style scoped>\n",
       "    .dataframe tbody tr th:only-of-type {\n",
       "        vertical-align: middle;\n",
       "    }\n",
       "\n",
       "    .dataframe tbody tr th {\n",
       "        vertical-align: top;\n",
       "    }\n",
       "\n",
       "    .dataframe thead th {\n",
       "        text-align: right;\n",
       "    }\n",
       "</style>\n",
       "<table border=\"1\" class=\"dataframe\">\n",
       "  <thead>\n",
       "    <tr style=\"text-align: right;\">\n",
       "      <th></th>\n",
       "      <th>Cidade</th>\n",
       "      <th>Data</th>\n",
       "      <th>ValorProduto</th>\n",
       "      <th>LojaID</th>\n",
       "      <th>Qtde</th>\n",
       "      <th>Receita</th>\n",
       "      <th>ClassificaVenda1</th>\n",
       "      <th>ClassificacaoVenda2</th>\n",
       "    </tr>\n",
       "  </thead>\n",
       "  <tbody>\n",
       "    <tr>\n",
       "      <th>26</th>\n",
       "      <td>Fortaleza</td>\n",
       "      <td>2018-01-02</td>\n",
       "      <td>6.98</td>\n",
       "      <td>1521</td>\n",
       "      <td>10</td>\n",
       "      <td>69.8</td>\n",
       "      <td>Baixa</td>\n",
       "      <td>Baixa</td>\n",
       "    </tr>\n",
       "    <tr>\n",
       "      <th>5</th>\n",
       "      <td>Fortaleza</td>\n",
       "      <td>2018-01-01</td>\n",
       "      <td>156.20</td>\n",
       "      <td>1522</td>\n",
       "      <td>1</td>\n",
       "      <td>156.2</td>\n",
       "      <td>Baixa</td>\n",
       "      <td>Baixa</td>\n",
       "    </tr>\n",
       "    <tr>\n",
       "      <th>83</th>\n",
       "      <td>Fortaleza</td>\n",
       "      <td>2018-01-01</td>\n",
       "      <td>14.44</td>\n",
       "      <td>1520</td>\n",
       "      <td>5</td>\n",
       "      <td>72.2</td>\n",
       "      <td>Baixa</td>\n",
       "      <td>Baixa</td>\n",
       "    </tr>\n",
       "    <tr>\n",
       "      <th>129</th>\n",
       "      <td>Fortaleza</td>\n",
       "      <td>2018-01-01</td>\n",
       "      <td>13.70</td>\n",
       "      <td>1522</td>\n",
       "      <td>6</td>\n",
       "      <td>82.2</td>\n",
       "      <td>Baixa</td>\n",
       "      <td>Baixa</td>\n",
       "    </tr>\n",
       "  </tbody>\n",
       "</table>\n",
       "</div>"
      ],
      "text/plain": [
       "        Cidade       Data  ValorProduto  LojaID  Qtde  Receita  \\\n",
       "26   Fortaleza 2018-01-02          6.98    1521    10     69.8   \n",
       "5    Fortaleza 2018-01-01        156.20    1522     1    156.2   \n",
       "83   Fortaleza 2018-01-01         14.44    1520     5     72.2   \n",
       "129  Fortaleza 2018-01-01         13.70    1522     6     82.2   \n",
       "\n",
       "    ClassificaVenda1 ClassificacaoVenda2  \n",
       "26             Baixa               Baixa  \n",
       "5              Baixa               Baixa  \n",
       "83             Baixa               Baixa  \n",
       "129            Baixa               Baixa  "
      ]
     },
     "execution_count": 38,
     "metadata": {},
     "output_type": "execute_result"
    }
   ],
   "source": [
    "df.sample(4)"
   ]
  },
  {
   "cell_type": "markdown",
   "id": "7dad1463",
   "metadata": {},
   "source": [
    "### Várias condições"
   ]
  },
  {
   "cell_type": "markdown",
   "id": "8eef4452",
   "metadata": {},
   "source": [
    "### numpy.select(condições, valores_possíveis, valor_default)\n"
   ]
  },
  {
   "cell_type": "code",
   "execution_count": null,
   "id": "babe1c34",
   "metadata": {},
   "outputs": [],
   "source": [
    "condições = [\n",
    "    df['Receita'].isnull(),\n",
    "    df['Receita'] < 100,\n",
    "    (df['Receita'] >= 100) & (df['Receita'] <= 500),\n",
    "    df['Receita'] > 500\n",
    "]\n",
    "\n",
    "valores_possíveis = [\n",
    "    'Nenhum',\n",
    "    'Baixa',\n",
    "    'Média',\n",
    "    'Alta'\n",
    "]"
   ]
  },
  {
   "cell_type": "code",
   "execution_count": null,
   "id": "085505e0",
   "metadata": {},
   "outputs": [],
   "source": [
    "df['ClassificacaoVenda'] = np.select(condições, valores_possíveis, default='Desconhecido')"
   ]
  },
  {
   "cell_type": "code",
   "execution_count": null,
   "id": "48f24483",
   "metadata": {},
   "outputs": [],
   "source": [
    "df.sample(10)"
   ]
  },
  {
   "cell_type": "markdown",
   "id": "8f36153f",
   "metadata": {},
   "source": []
  }
 ],
 "metadata": {
  "finalized": {
   "timestamp": 1692911793331,
   "trusted": false
  },
  "kernelspec": {
   "display_name": "Python 3 (ipykernel)",
   "language": "python",
   "name": "python3"
  },
  "language_info": {
   "codemirror_mode": {
    "name": "ipython",
    "version": 3
   },
   "file_extension": ".py",
   "mimetype": "text/x-python",
   "name": "python",
   "nbconvert_exporter": "python",
   "pygments_lexer": "ipython3",
   "version": "3.9.12"
  }
 },
 "nbformat": 4,
 "nbformat_minor": 5
}
